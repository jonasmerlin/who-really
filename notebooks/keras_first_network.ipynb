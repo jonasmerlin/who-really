{
 "cells": [
  {
   "cell_type": "markdown",
   "metadata": {},
   "source": [
    "# Develop Your First Neural Network in Python With Keras Step-By-Step\n",
    "\n",
    "Adapted from [this post](https://machinelearningmastery.com/tutorial-first-neural-network-python-keras/)\n",
    "\n",
    "NOTE: For a view of the complete code without text in between open the post and scroll down. It's nice to see how little of it there actually is.\n",
    "\n",
    "Keras is a powerful easy-to-use Python library for developing and evaluating deep learning models.\n",
    "\n",
    "It wraps the efficient numerical computation libraries Theano and TensorFlow and allows you to define and train neural network models in a few short lines of code.\n",
    "\n",
    "In this post, you will discover how to create your first neural network model in Python using Keras.\n",
    "\n",
    "Let’s get started."
   ]
  },
  {
   "cell_type": "markdown",
   "metadata": {},
   "source": [
    "## Tutorial Overview\n",
    "\n",
    "There is not a lot of code required, but we are going to step over it slowly so that you will know how to create your own models in the future.\n",
    "\n",
    "The steps you are going to cover in this tutorial are as follows:\n",
    "\n",
    "* Load Data.\n",
    "* Define Model.\n",
    "* Compile Model.\n",
    "* Fit Model.\n",
    "* Evaluate Model.\n",
    "* Tie It All Together."
   ]
  },
  {
   "cell_type": "markdown",
   "metadata": {},
   "source": [
    "## 1. Load Data\n",
    "\n",
    "Whenever we work with machine learning algorithms that use a stochastic process (e.g. random numbers), it is a good idea to set the random number seed.\n",
    "\n",
    "This is so that you can run the same code again and again and get the same result. This is useful if you need to demonstrate a result, compare algorithms using the same source of randomness or to debug a part of your code.\n",
    "\n",
    "You can initialize the random number generator with any seed you like, for example:"
   ]
  },
  {
   "cell_type": "code",
   "execution_count": 1,
   "metadata": {},
   "outputs": [
    {
     "name": "stderr",
     "output_type": "stream",
     "text": [
      "Using TensorFlow backend.\n"
     ]
    }
   ],
   "source": [
    "from keras.models import Sequential\n",
    "from keras.layers import Dense\n",
    "import numpy\n",
    "\n",
    "# fix random seed for reproducibility\n",
    "numpy.random.seed(7)"
   ]
  },
  {
   "cell_type": "markdown",
   "metadata": {},
   "source": [
    "Now we can load our data.\n",
    "\n",
    "In this tutorial, we are going to use the Pima Indians onset of diabetes dataset. This is a standard machine learning dataset from the UCI Machine Learning repository. It describes patient medical record data for Pima Indians and whether they had an onset of diabetes within five years.\n",
    "\n",
    "As such, it is a binary classification problem (onset of diabetes as 1 or not as 0). All of the input variables that describe each patient are numerical. This makes it easy to use directly with neural networks that expect numerical input and output values, and ideal for our first neural network in Keras.\n",
    "\n",
    "I downloaded the [Pima Indian dataset from the UCI Machine Learning repository](http://archive.ics.uci.edu/ml/machine-learning-databases/pima-indians-diabetes/pima-indians-diabetes.data) and placed it in the notebooks folder under the name `pima-indians-diabetes.csv`.\n",
    "\n",
    "You can now load the file directly using the NumPy function loadtxt(). There are eight input variables and one output variable (the last column). Once loaded we can split the dataset into input variables (X) and the output class variable (Y)."
   ]
  },
  {
   "cell_type": "code",
   "execution_count": 2,
   "metadata": {
    "collapsed": true
   },
   "outputs": [],
   "source": [
    "# load pima indians dataset\n",
    "dataset = numpy.loadtxt(\"pima-indians-diabetes.csv\", delimiter=\",\")\n",
    "# split into input (X) and output (Y) variables\n",
    "X = dataset[:,0:8]\n",
    "Y = dataset[:,8]"
   ]
  },
  {
   "cell_type": "markdown",
   "metadata": {},
   "source": [
    "We have initialized our random number generator to ensure our results are reproducible and loaded our data. We are now ready to define our neural network model."
   ]
  },
  {
   "cell_type": "markdown",
   "metadata": {},
   "source": [
    "## 2. Define Model\n",
    "\n",
    "Models in Keras are defined as a sequence of layers.\n",
    "\n",
    "We create a Sequential model and add layers one at a time until we are happy with our network topology.\n",
    "\n",
    "The first thing to get right is to ensure the input layer has the right number of inputs. This can be specified when creating the first layer with the input_dim argument and setting it to 8 for the 8 input variables.\n",
    "\n",
    "How do we know the number of layers and their types?\n",
    "\n",
    "This is a very hard question. There are heuristics that we can use and often the best network structure is found through a process of trial and error experimentation. Generally, you need a network large enough to capture the structure of the problem if that helps at all.\n",
    "\n",
    "In this example, we will use a fully-connected network structure with three layers.\n",
    "\n",
    "Fully connected layers are defined using the Dense class. We can specify the number of neurons in the layer as the first argument, the initialization method as the second argument as init and specify the activation function using the activation argument.\n",
    "\n",
    "In this case, we initialize the network weights to a small random number generated from a uniform distribution (‘uniform‘), in this case between 0 and 0.05 because that is the default uniform weight initialization in Keras. Another traditional alternative would be ‘normal’ for small random numbers generated from a Gaussian distribution.\n",
    "\n",
    "We will use the rectifier (‘relu‘) activation function on the first two layers and the sigmoid function in the output layer. It used to be the case that sigmoid and tanh activation functions were preferred for all layers. These days, better performance is achieved using the rectifier activation function. We use a sigmoid on the output layer to ensure our network output is between 0 and 1 and easy to map to either a probability of class 1 or snap to a hard classification of either class with a default threshold of 0.5.\n",
    "\n",
    "We can piece it all together by adding each layer. The first layer has 12 neurons and expects 8 input variables. The second hidden layer has 8 neurons and finally, the output layer has 1 neuron to predict the class (onset of diabetes or not)."
   ]
  },
  {
   "cell_type": "code",
   "execution_count": 3,
   "metadata": {
    "collapsed": true
   },
   "outputs": [],
   "source": [
    "# create model\n",
    "model = Sequential()\n",
    "model.add(Dense(12, input_dim=8, activation='relu'))\n",
    "model.add(Dense(8, activation='relu'))\n",
    "model.add(Dense(1, activation='sigmoid'))"
   ]
  },
  {
   "cell_type": "markdown",
   "metadata": {},
   "source": [
    "## 3. Compile Model\n",
    "\n",
    "Now that the model is defined, we can compile it.\n",
    "\n",
    "Compiling the model uses the efficient numerical libraries under the covers (the so-called backend) such as Theano or TensorFlow. The backend automatically chooses the best way to represent the network for training and making predictions to run on your hardware, such as CPU or GPU or even distributed.\n",
    "\n",
    "When compiling, we must specify some additional properties required when training the network. Remember training a network means finding the best set of weights to make predictions for this problem.\n",
    "\n",
    "We must specify the loss function to use to evaluate a set of weights, the optimizer used to search through different weights for the network and any optional metrics we would like to collect and report during training.\n",
    "\n",
    "In this case, we will use logarithmic loss, which for a binary classification problem is defined in Keras as “binary_crossentropy“. We will also use the efficient gradient descent algorithm “adam” for no other reason that it is an efficient default. Learn more about the Adam optimization algorithm in the paper “Adam: A Method for Stochastic Optimization“.\n",
    "\n",
    "Finally, because it is a classification problem, we will collect and report the classification accuracy as the metric."
   ]
  },
  {
   "cell_type": "code",
   "execution_count": 4,
   "metadata": {
    "collapsed": true
   },
   "outputs": [],
   "source": [
    "# Compile model\n",
    "model.compile(loss='binary_crossentropy', optimizer='adam', metrics=['accuracy'])"
   ]
  },
  {
   "cell_type": "markdown",
   "metadata": {},
   "source": [
    "## 4. Fit Model\n",
    "\n",
    "We have defined our model and compiled it ready for efficient computation.\n",
    "\n",
    "Now it is time to execute the model on some data.\n",
    "\n",
    "We can train or fit our model on our loaded data by calling the fit() function on the model.\n",
    "\n",
    "The training process will run for a fixed number of iterations through the dataset called epochs, that we must specify using the nepochs argument. We can also set the number of instances that are evaluated before a weight update in the network is performed, called the batch size and set using the batch_size argument.\n",
    "\n",
    "For this problem, we will run for a small number of iterations (150) and use a relatively small batch size of 10. Again, these can be chosen experimentally by trial and error."
   ]
  },
  {
   "cell_type": "code",
   "execution_count": 9,
   "metadata": {},
   "outputs": [
    {
     "name": "stdout",
     "output_type": "stream",
     "text": [
      "Epoch 1/150\n",
      "768/768 [==============================] - 0s - loss: 0.4850 - acc: 0.7695     \n",
      "Epoch 2/150\n",
      "768/768 [==============================] - 0s - loss: 0.4668 - acc: 0.7982     \n",
      "Epoch 3/150\n",
      "768/768 [==============================] - 0s - loss: 0.4715 - acc: 0.7799     \n",
      "Epoch 4/150\n",
      "768/768 [==============================] - 0s - loss: 0.4907 - acc: 0.7773     \n",
      "Epoch 5/150\n",
      "768/768 [==============================] - 0s - loss: 0.4733 - acc: 0.7708     \n",
      "Epoch 6/150\n",
      "768/768 [==============================] - 0s - loss: 0.4691 - acc: 0.7799     \n",
      "Epoch 7/150\n",
      "768/768 [==============================] - 0s - loss: 0.4728 - acc: 0.7878     \n",
      "Epoch 8/150\n",
      "768/768 [==============================] - 0s - loss: 0.4639 - acc: 0.7826     \n",
      "Epoch 9/150\n",
      "768/768 [==============================] - 0s - loss: 0.4646 - acc: 0.7852     \n",
      "Epoch 10/150\n",
      "768/768 [==============================] - 0s - loss: 0.4767 - acc: 0.7878     \n",
      "Epoch 11/150\n",
      "768/768 [==============================] - 0s - loss: 0.4760 - acc: 0.7786     \n",
      "Epoch 12/150\n",
      "768/768 [==============================] - 0s - loss: 0.4621 - acc: 0.7773     \n",
      "Epoch 13/150\n",
      "768/768 [==============================] - 0s - loss: 0.4913 - acc: 0.7812     \n",
      "Epoch 14/150\n",
      "768/768 [==============================] - 0s - loss: 0.4676 - acc: 0.7904     \n",
      "Epoch 15/150\n",
      "768/768 [==============================] - 0s - loss: 0.4736 - acc: 0.7904     \n",
      "Epoch 16/150\n",
      "768/768 [==============================] - 0s - loss: 0.4650 - acc: 0.7982     \n",
      "Epoch 17/150\n",
      "768/768 [==============================] - 0s - loss: 0.4616 - acc: 0.7760     \n",
      "Epoch 18/150\n",
      "768/768 [==============================] - 0s - loss: 0.4749 - acc: 0.7734     \n",
      "Epoch 19/150\n",
      "768/768 [==============================] - 0s - loss: 0.4647 - acc: 0.7917     \n",
      "Epoch 20/150\n",
      "768/768 [==============================] - 0s - loss: 0.4667 - acc: 0.7786     \n",
      "Epoch 21/150\n",
      "768/768 [==============================] - 0s - loss: 0.4662 - acc: 0.7786     \n",
      "Epoch 22/150\n",
      "768/768 [==============================] - 0s - loss: 0.4616 - acc: 0.7865     \n",
      "Epoch 23/150\n",
      "768/768 [==============================] - 0s - loss: 0.5078 - acc: 0.7526     \n",
      "Epoch 24/150\n",
      "768/768 [==============================] - 0s - loss: 0.4727 - acc: 0.7826     \n",
      "Epoch 25/150\n",
      "768/768 [==============================] - 0s - loss: 0.4619 - acc: 0.8021     \n",
      "Epoch 26/150\n",
      "768/768 [==============================] - 0s - loss: 0.4826 - acc: 0.7760     \n",
      "Epoch 27/150\n",
      "768/768 [==============================] - 0s - loss: 0.4628 - acc: 0.7786     \n",
      "Epoch 28/150\n",
      "768/768 [==============================] - 0s - loss: 0.4628 - acc: 0.7865     \n",
      "Epoch 29/150\n",
      "768/768 [==============================] - 0s - loss: 0.4601 - acc: 0.7891     \n",
      "Epoch 30/150\n",
      "768/768 [==============================] - 0s - loss: 0.4687 - acc: 0.7865     \n",
      "Epoch 31/150\n",
      "768/768 [==============================] - 0s - loss: 0.4626 - acc: 0.7839     \n",
      "Epoch 32/150\n",
      "768/768 [==============================] - 0s - loss: 0.4561 - acc: 0.8021     \n",
      "Epoch 33/150\n",
      "768/768 [==============================] - 0s - loss: 0.4656 - acc: 0.7995     \n",
      "Epoch 34/150\n",
      "768/768 [==============================] - 0s - loss: 0.4730 - acc: 0.7852     \n",
      "Epoch 35/150\n",
      "768/768 [==============================] - 0s - loss: 0.4669 - acc: 0.7917     \n",
      "Epoch 36/150\n",
      "768/768 [==============================] - 0s - loss: 0.4649 - acc: 0.7943     \n",
      "Epoch 37/150\n",
      "768/768 [==============================] - 0s - loss: 0.4657 - acc: 0.7839     \n",
      "Epoch 38/150\n",
      "768/768 [==============================] - 0s - loss: 0.4607 - acc: 0.7826     \n",
      "Epoch 39/150\n",
      "768/768 [==============================] - 0s - loss: 0.4703 - acc: 0.7930     \n",
      "Epoch 40/150\n",
      "768/768 [==============================] - 0s - loss: 0.4713 - acc: 0.7930     \n",
      "Epoch 41/150\n",
      "768/768 [==============================] - 0s - loss: 0.4751 - acc: 0.7826     \n",
      "Epoch 42/150\n",
      "768/768 [==============================] - 0s - loss: 0.4614 - acc: 0.7826     \n",
      "Epoch 43/150\n",
      "768/768 [==============================] - 0s - loss: 0.4540 - acc: 0.7956     \n",
      "Epoch 44/150\n",
      "768/768 [==============================] - 0s - loss: 0.4553 - acc: 0.7956     \n",
      "Epoch 45/150\n",
      "768/768 [==============================] - 0s - loss: 0.4588 - acc: 0.7878     \n",
      "Epoch 46/150\n",
      "768/768 [==============================] - 0s - loss: 0.4579 - acc: 0.7799     \n",
      "Epoch 47/150\n",
      "768/768 [==============================] - 0s - loss: 0.4537 - acc: 0.7904     \n",
      "Epoch 48/150\n",
      "768/768 [==============================] - 0s - loss: 0.4592 - acc: 0.7826     \n",
      "Epoch 49/150\n",
      "768/768 [==============================] - 0s - loss: 0.4592 - acc: 0.7969     \n",
      "Epoch 50/150\n",
      "768/768 [==============================] - 0s - loss: 0.4514 - acc: 0.7904     \n",
      "Epoch 51/150\n",
      "768/768 [==============================] - 0s - loss: 0.4627 - acc: 0.7943     \n",
      "Epoch 52/150\n",
      "768/768 [==============================] - 0s - loss: 0.4547 - acc: 0.7865     \n",
      "Epoch 53/150\n",
      "768/768 [==============================] - 0s - loss: 0.4580 - acc: 0.7969     \n",
      "Epoch 54/150\n",
      "768/768 [==============================] - 0s - loss: 0.4589 - acc: 0.7747     \n",
      "Epoch 55/150\n",
      "768/768 [==============================] - 0s - loss: 0.4628 - acc: 0.7826     \n",
      "Epoch 56/150\n",
      "768/768 [==============================] - 0s - loss: 0.4493 - acc: 0.7865     \n",
      "Epoch 57/150\n",
      "768/768 [==============================] - 0s - loss: 0.4520 - acc: 0.7969     \n",
      "Epoch 58/150\n",
      "768/768 [==============================] - 0s - loss: 0.4562 - acc: 0.7917     \n",
      "Epoch 59/150\n",
      "768/768 [==============================] - 0s - loss: 0.4593 - acc: 0.7760     \n",
      "Epoch 60/150\n",
      "768/768 [==============================] - 0s - loss: 0.4487 - acc: 0.7865     \n",
      "Epoch 61/150\n",
      "768/768 [==============================] - 0s - loss: 0.4474 - acc: 0.7904     \n",
      "Epoch 62/150\n",
      "768/768 [==============================] - 0s - loss: 0.4583 - acc: 0.7826     \n",
      "Epoch 63/150\n",
      "768/768 [==============================] - 0s - loss: 0.4490 - acc: 0.7995     \n",
      "Epoch 64/150\n",
      "768/768 [==============================] - 0s - loss: 0.4621 - acc: 0.7826     \n",
      "Epoch 65/150\n",
      "768/768 [==============================] - 0s - loss: 0.4550 - acc: 0.7786     \n",
      "Epoch 66/150\n",
      "768/768 [==============================] - 0s - loss: 0.4617 - acc: 0.7878     \n",
      "Epoch 67/150\n",
      "768/768 [==============================] - 0s - loss: 0.4553 - acc: 0.7878     \n",
      "Epoch 68/150\n",
      "768/768 [==============================] - 0s - loss: 0.4456 - acc: 0.8021     \n",
      "Epoch 69/150\n",
      "768/768 [==============================] - 0s - loss: 0.4466 - acc: 0.7943     \n",
      "Epoch 70/150\n",
      "768/768 [==============================] - 0s - loss: 0.4465 - acc: 0.7930     \n",
      "Epoch 71/150\n",
      "768/768 [==============================] - 0s - loss: 0.4523 - acc: 0.7773     \n",
      "Epoch 72/150\n",
      "768/768 [==============================] - 0s - loss: 0.4627 - acc: 0.7982     \n",
      "Epoch 73/150\n",
      "768/768 [==============================] - 0s - loss: 0.4512 - acc: 0.7852     \n",
      "Epoch 74/150\n",
      "768/768 [==============================] - 0s - loss: 0.4462 - acc: 0.7852     \n",
      "Epoch 75/150\n",
      "768/768 [==============================] - 0s - loss: 0.4428 - acc: 0.7943     \n",
      "Epoch 76/150\n",
      "768/768 [==============================] - 0s - loss: 0.4564 - acc: 0.7917     \n",
      "Epoch 77/150\n",
      "768/768 [==============================] - 0s - loss: 0.4492 - acc: 0.7878     \n",
      "Epoch 78/150\n",
      "768/768 [==============================] - 0s - loss: 0.4657 - acc: 0.7799     \n",
      "Epoch 79/150\n",
      "768/768 [==============================] - 0s - loss: 0.4554 - acc: 0.7799     \n",
      "Epoch 80/150\n",
      "768/768 [==============================] - 0s - loss: 0.4596 - acc: 0.7995     \n",
      "Epoch 81/150\n",
      "768/768 [==============================] - 0s - loss: 0.4416 - acc: 0.8034     \n",
      "Epoch 82/150\n",
      "768/768 [==============================] - 0s - loss: 0.4610 - acc: 0.7760     \n",
      "Epoch 83/150\n",
      "768/768 [==============================] - 0s - loss: 0.4591 - acc: 0.7878     \n",
      "Epoch 84/150\n",
      "768/768 [==============================] - 0s - loss: 0.4487 - acc: 0.7852     \n",
      "Epoch 85/150\n",
      "768/768 [==============================] - 0s - loss: 0.4585 - acc: 0.7865     \n",
      "Epoch 86/150\n",
      "768/768 [==============================] - 0s - loss: 0.4452 - acc: 0.8008     \n",
      "Epoch 87/150\n",
      "768/768 [==============================] - 0s - loss: 0.4561 - acc: 0.7917     \n",
      "Epoch 88/150\n",
      "768/768 [==============================] - 0s - loss: 0.4521 - acc: 0.7969     \n",
      "Epoch 89/150\n"
     ]
    },
    {
     "name": "stdout",
     "output_type": "stream",
     "text": [
      "768/768 [==============================] - 0s - loss: 0.4443 - acc: 0.7891     \n",
      "Epoch 90/150\n",
      "768/768 [==============================] - 0s - loss: 0.4480 - acc: 0.8047     \n",
      "Epoch 91/150\n",
      "768/768 [==============================] - 0s - loss: 0.4533 - acc: 0.7878     \n",
      "Epoch 92/150\n",
      "768/768 [==============================] - 0s - loss: 0.4564 - acc: 0.7878     \n",
      "Epoch 93/150\n",
      "768/768 [==============================] - 0s - loss: 0.4377 - acc: 0.8086     \n",
      "Epoch 94/150\n",
      "768/768 [==============================] - 0s - loss: 0.4577 - acc: 0.7943     \n",
      "Epoch 95/150\n",
      "768/768 [==============================] - 0s - loss: 0.4591 - acc: 0.7786     \n",
      "Epoch 96/150\n",
      "768/768 [==============================] - 0s - loss: 0.4601 - acc: 0.7969     \n",
      "Epoch 97/150\n",
      "768/768 [==============================] - 0s - loss: 0.4441 - acc: 0.7943     \n",
      "Epoch 98/150\n",
      "768/768 [==============================] - 0s - loss: 0.4514 - acc: 0.7799     \n",
      "Epoch 99/150\n",
      "768/768 [==============================] - 0s - loss: 0.4419 - acc: 0.7878     \n",
      "Epoch 100/150\n",
      "768/768 [==============================] - 0s - loss: 0.4423 - acc: 0.7995     \n",
      "Epoch 101/150\n",
      "768/768 [==============================] - 0s - loss: 0.4493 - acc: 0.7839     \n",
      "Epoch 102/150\n",
      "768/768 [==============================] - 0s - loss: 0.4492 - acc: 0.7917     \n",
      "Epoch 103/150\n",
      "768/768 [==============================] - 0s - loss: 0.4549 - acc: 0.7943     \n",
      "Epoch 104/150\n",
      "768/768 [==============================] - 0s - loss: 0.4493 - acc: 0.8138     \n",
      "Epoch 105/150\n",
      "768/768 [==============================] - 0s - loss: 0.4550 - acc: 0.7930     \n",
      "Epoch 106/150\n",
      "768/768 [==============================] - 0s - loss: 0.4390 - acc: 0.7956     \n",
      "Epoch 107/150\n",
      "768/768 [==============================] - 0s - loss: 0.4509 - acc: 0.7904     \n",
      "Epoch 108/150\n",
      "768/768 [==============================] - 0s - loss: 0.4504 - acc: 0.7799     \n",
      "Epoch 109/150\n",
      "768/768 [==============================] - 0s - loss: 0.4426 - acc: 0.7865     \n",
      "Epoch 110/150\n",
      "768/768 [==============================] - 0s - loss: 0.4492 - acc: 0.7865     \n",
      "Epoch 111/150\n",
      "768/768 [==============================] - 0s - loss: 0.4452 - acc: 0.8034     \n",
      "Epoch 112/150\n",
      "768/768 [==============================] - 0s - loss: 0.4396 - acc: 0.7995     \n",
      "Epoch 113/150\n",
      "768/768 [==============================] - 0s - loss: 0.4464 - acc: 0.7930     \n",
      "Epoch 114/150\n",
      "768/768 [==============================] - 0s - loss: 0.4374 - acc: 0.7969     \n",
      "Epoch 115/150\n",
      "768/768 [==============================] - 0s - loss: 0.4503 - acc: 0.7917     \n",
      "Epoch 116/150\n",
      "768/768 [==============================] - 0s - loss: 0.4456 - acc: 0.8008     \n",
      "Epoch 117/150\n",
      "768/768 [==============================] - 0s - loss: 0.4363 - acc: 0.8008     \n",
      "Epoch 118/150\n",
      "768/768 [==============================] - 0s - loss: 0.4403 - acc: 0.8034     \n",
      "Epoch 119/150\n",
      "768/768 [==============================] - 0s - loss: 0.4418 - acc: 0.8021     \n",
      "Epoch 120/150\n",
      "768/768 [==============================] - 0s - loss: 0.4436 - acc: 0.8008     \n",
      "Epoch 121/150\n",
      "768/768 [==============================] - 0s - loss: 0.4362 - acc: 0.7943     \n",
      "Epoch 122/150\n",
      "768/768 [==============================] - 0s - loss: 0.4418 - acc: 0.7969     \n",
      "Epoch 123/150\n",
      "768/768 [==============================] - 0s - loss: 0.4375 - acc: 0.7982     \n",
      "Epoch 124/150\n",
      "768/768 [==============================] - 0s - loss: 0.4451 - acc: 0.7956     \n",
      "Epoch 125/150\n",
      "768/768 [==============================] - 0s - loss: 0.4413 - acc: 0.8099     \n",
      "Epoch 126/150\n",
      "768/768 [==============================] - 0s - loss: 0.4355 - acc: 0.7982     \n",
      "Epoch 127/150\n",
      "768/768 [==============================] - 0s - loss: 0.4399 - acc: 0.7943     \n",
      "Epoch 128/150\n",
      "768/768 [==============================] - 0s - loss: 0.4507 - acc: 0.7891     \n",
      "Epoch 129/150\n",
      "768/768 [==============================] - 0s - loss: 0.4484 - acc: 0.8008     \n",
      "Epoch 130/150\n",
      "768/768 [==============================] - 0s - loss: 0.4372 - acc: 0.8008     \n",
      "Epoch 131/150\n",
      "768/768 [==============================] - 0s - loss: 0.4422 - acc: 0.7839     \n",
      "Epoch 132/150\n",
      "768/768 [==============================] - 0s - loss: 0.4437 - acc: 0.7995     \n",
      "Epoch 133/150\n",
      "768/768 [==============================] - 0s - loss: 0.4404 - acc: 0.8060     \n",
      "Epoch 134/150\n",
      "768/768 [==============================] - 0s - loss: 0.4354 - acc: 0.7956     \n",
      "Epoch 135/150\n",
      "768/768 [==============================] - 0s - loss: 0.4442 - acc: 0.7891     \n",
      "Epoch 136/150\n",
      "768/768 [==============================] - 0s - loss: 0.4379 - acc: 0.7969     \n",
      "Epoch 137/150\n",
      "768/768 [==============================] - 0s - loss: 0.4353 - acc: 0.8047     \n",
      "Epoch 138/150\n",
      "768/768 [==============================] - 0s - loss: 0.4550 - acc: 0.7917     \n",
      "Epoch 139/150\n",
      "768/768 [==============================] - 0s - loss: 0.4388 - acc: 0.7995     \n",
      "Epoch 140/150\n",
      "768/768 [==============================] - 0s - loss: 0.4349 - acc: 0.7956     \n",
      "Epoch 141/150\n",
      "768/768 [==============================] - 0s - loss: 0.4449 - acc: 0.8086     \n",
      "Epoch 142/150\n",
      "768/768 [==============================] - 0s - loss: 0.4408 - acc: 0.7969     \n",
      "Epoch 143/150\n",
      "768/768 [==============================] - 0s - loss: 0.4399 - acc: 0.7930     \n",
      "Epoch 144/150\n",
      "768/768 [==============================] - 0s - loss: 0.4429 - acc: 0.7943     \n",
      "Epoch 145/150\n",
      "768/768 [==============================] - 0s - loss: 0.4400 - acc: 0.8073     \n",
      "Epoch 146/150\n",
      "768/768 [==============================] - 0s - loss: 0.4369 - acc: 0.8034     \n",
      "Epoch 147/150\n",
      "768/768 [==============================] - 0s - loss: 0.4328 - acc: 0.8112     \n",
      "Epoch 148/150\n",
      "768/768 [==============================] - 0s - loss: 0.4434 - acc: 0.7995     \n",
      "Epoch 149/150\n",
      "768/768 [==============================] - 0s - loss: 0.4437 - acc: 0.7969     \n",
      "Epoch 150/150\n",
      "768/768 [==============================] - 0s - loss: 0.4357 - acc: 0.7982     \n"
     ]
    },
    {
     "data": {
      "text/plain": [
       "<keras.callbacks.History at 0x7f731c311c10>"
      ]
     },
     "execution_count": 9,
     "metadata": {},
     "output_type": "execute_result"
    }
   ],
   "source": [
    "# Fit the model\n",
    "model.fit(X, Y, epochs=150, batch_size=10)"
   ]
  },
  {
   "cell_type": "markdown",
   "metadata": {},
   "source": [
    "This is where the work happens on your CPU or GPU."
   ]
  },
  {
   "cell_type": "markdown",
   "metadata": {},
   "source": [
    "## 5. Evaluate Model\n",
    "\n",
    "We have trained our neural network on the entire dataset and we can evaluate the performance of the network on the same dataset.\n",
    "\n",
    "This will only give us an idea of how well we have modeled the dataset (e.g. train accuracy), but no idea of how well the algorithm might perform on new data. We have done this for simplicity, but ideally, you could separate your data into train and test datasets for training and evaluation of your model.\n",
    "\n",
    "You can evaluate your model on your training dataset using the evaluate() function on your model and pass it the same input and output used to train the model.\n",
    "\n",
    "This will generate a prediction for each input and output pair and collect scores, including the average loss and any metrics you have configured, such as accuracy."
   ]
  },
  {
   "cell_type": "code",
   "execution_count": 6,
   "metadata": {},
   "outputs": [
    {
     "name": "stdout",
     "output_type": "stream",
     "text": [
      " 32/768 [>.............................] - ETA: 0s\n",
      "acc: 79.30%\n"
     ]
    }
   ],
   "source": [
    "# evaluate the model\n",
    "scores = model.evaluate(X, Y)\n",
    "print(\"\\n%s: %.2f%%\" % (model.metrics_names[1], scores[1]*100))"
   ]
  },
  {
   "cell_type": "markdown",
   "metadata": {},
   "source": [
    "## 6. Tie It All Together\n",
    "\n",
    "You have just seen how you can easily create your first neural network model in Keras.\n",
    "\n",
    "Running this example, you should see a message for each of the 150 epochs printing the loss and accuracy for each, followed by the final evaluation of the trained model on the training dataset."
   ]
  },
  {
   "cell_type": "markdown",
   "metadata": {},
   "source": [
    "## 7. Bonus: Make Predictions\n",
    "\n",
    "The number one question I get asked is:\n",
    "\n",
    "    \"After I train my model, how can I use it to make predictions on new data?\"\n",
    "\n",
    "Great question.\n",
    "\n",
    "We can adapt the above example and use it to generate predictions on the training dataset, pretending it is a new dataset we have not seen before.\n",
    "\n",
    "Making predictions is as easy as calling model.predict(). We are using a sigmoid activation function on the output layer, so the predictions will be in the range between 0 and 1. We can easily convert them into a crisp binary prediction for this classification task by rounding them."
   ]
  },
  {
   "cell_type": "code",
   "execution_count": 8,
   "metadata": {},
   "outputs": [
    {
     "name": "stdout",
     "output_type": "stream",
     "text": [
      "[1.0, 0.0, 1.0, 0.0, 1.0, 0.0, 0.0, 0.0, 1.0, 0.0, 0.0, 1.0, 1.0, 1.0, 1.0, 0.0, 0.0, 0.0, 1.0, 0.0, 0.0, 0.0, 1.0, 0.0, 1.0, 1.0, 1.0, 0.0, 0.0, 0.0, 1.0, 1.0, 0.0, 0.0, 1.0, 1.0, 1.0, 1.0, 0.0, 1.0, 1.0, 1.0, 0.0, 1.0, 1.0, 1.0, 1.0, 0.0, 0.0, 0.0, 0.0, 0.0, 0.0, 1.0, 1.0, 0.0, 1.0, 0.0, 1.0, 0.0, 0.0, 1.0, 0.0, 1.0, 1.0, 0.0, 0.0, 0.0, 0.0, 0.0, 0.0, 1.0, 1.0, 0.0, 0.0, 0.0, 0.0, 0.0, 1.0, 0.0, 0.0, 0.0, 0.0, 0.0, 0.0, 0.0, 0.0, 0.0, 1.0, 0.0, 0.0, 0.0, 0.0, 0.0, 0.0, 1.0, 0.0, 0.0, 0.0, 0.0, 1.0, 1.0, 0.0, 0.0, 0.0, 0.0, 0.0, 1.0, 0.0, 0.0, 1.0, 1.0, 0.0, 0.0, 1.0, 1.0, 1.0, 0.0, 0.0, 0.0, 1.0, 0.0, 0.0, 0.0, 0.0, 1.0, 0.0, 0.0, 0.0, 0.0, 1.0, 1.0, 1.0, 0.0, 0.0, 0.0, 0.0, 0.0, 0.0, 0.0, 0.0, 0.0, 0.0, 1.0, 1.0, 0.0, 0.0, 0.0, 0.0, 0.0, 1.0, 0.0, 1.0, 1.0, 1.0, 1.0, 0.0, 0.0, 0.0, 1.0, 0.0, 0.0, 0.0, 0.0, 0.0, 0.0, 0.0, 1.0, 0.0, 0.0, 0.0, 1.0, 0.0, 0.0, 0.0, 1.0, 0.0, 1.0, 1.0, 1.0, 0.0, 0.0, 0.0, 0.0, 1.0, 1.0, 1.0, 0.0, 1.0, 1.0, 0.0, 0.0, 1.0, 1.0, 0.0, 1.0, 0.0, 0.0, 0.0, 1.0, 0.0, 0.0, 0.0, 0.0, 1.0, 0.0, 1.0, 1.0, 0.0, 1.0, 0.0, 0.0, 1.0, 1.0, 1.0, 1.0, 0.0, 1.0, 0.0, 1.0, 1.0, 1.0, 0.0, 1.0, 0.0, 0.0, 0.0, 1.0, 1.0, 0.0, 1.0, 1.0, 0.0, 1.0, 0.0, 1.0, 1.0, 1.0, 1.0, 0.0, 0.0, 0.0, 1.0, 1.0, 1.0, 1.0, 1.0, 1.0, 1.0, 0.0, 1.0, 0.0, 0.0, 0.0, 1.0, 0.0, 0.0, 0.0, 1.0, 1.0, 1.0, 1.0, 0.0, 1.0, 1.0, 0.0, 1.0, 0.0, 0.0, 1.0, 1.0, 0.0, 0.0, 0.0, 0.0, 0.0, 0.0, 0.0, 0.0, 0.0, 1.0, 1.0, 0.0, 1.0, 0.0, 1.0, 1.0, 0.0, 0.0, 0.0, 0.0, 0.0, 0.0, 1.0, 0.0, 1.0, 1.0, 0.0, 1.0, 0.0, 1.0, 1.0, 0.0, 0.0, 0.0, 0.0, 1.0, 0.0, 0.0, 0.0, 0.0, 0.0, 1.0, 0.0, 1.0, 0.0, 0.0, 1.0, 0.0, 1.0, 0.0, 0.0, 0.0, 1.0, 0.0, 1.0, 0.0, 1.0, 0.0, 0.0, 1.0, 0.0, 1.0, 0.0, 0.0, 1.0, 0.0, 0.0, 1.0, 1.0, 0.0, 0.0, 0.0, 0.0, 0.0, 0.0, 1.0, 0.0, 0.0, 1.0, 0.0, 0.0, 0.0, 0.0, 0.0, 1.0, 1.0, 1.0, 0.0, 1.0, 1.0, 0.0, 0.0, 0.0, 1.0, 0.0, 0.0, 0.0, 0.0, 0.0, 1.0, 0.0, 0.0, 0.0, 1.0, 1.0, 0.0, 0.0, 1.0, 0.0, 0.0, 0.0, 0.0, 0.0, 0.0, 0.0, 0.0, 0.0, 1.0, 0.0, 0.0, 1.0, 0.0, 0.0, 1.0, 1.0, 1.0, 0.0, 0.0, 1.0, 0.0, 0.0, 0.0, 0.0, 1.0, 0.0, 0.0, 0.0, 1.0, 1.0, 0.0, 0.0, 0.0, 0.0, 0.0, 1.0, 0.0, 1.0, 0.0, 1.0, 0.0, 0.0, 0.0, 0.0, 1.0, 1.0, 0.0, 1.0, 0.0, 0.0, 0.0, 0.0, 0.0, 0.0, 0.0, 1.0, 1.0, 1.0, 0.0, 0.0, 1.0, 0.0, 0.0, 1.0, 1.0, 1.0, 0.0, 0.0, 0.0, 0.0, 0.0, 0.0, 0.0, 0.0, 0.0, 1.0, 0.0, 0.0, 1.0, 0.0, 0.0, 0.0, 0.0, 0.0, 0.0, 0.0, 0.0, 0.0, 0.0, 1.0, 0.0, 0.0, 1.0, 1.0, 0.0, 0.0, 0.0, 0.0, 0.0, 1.0, 1.0, 0.0, 0.0, 0.0, 1.0, 0.0, 1.0, 1.0, 0.0, 1.0, 0.0, 0.0, 0.0, 1.0, 0.0, 0.0, 0.0, 0.0, 1.0, 1.0, 0.0, 0.0, 1.0, 0.0, 0.0, 0.0, 0.0, 0.0, 0.0, 0.0, 0.0, 0.0, 0.0, 0.0, 0.0, 1.0, 1.0, 1.0, 0.0, 1.0, 0.0, 0.0, 0.0, 1.0, 1.0, 0.0, 0.0, 0.0, 0.0, 0.0, 0.0, 1.0, 0.0, 0.0, 0.0, 1.0, 0.0, 0.0, 0.0, 0.0, 1.0, 0.0, 0.0, 0.0, 0.0, 1.0, 1.0, 0.0, 0.0, 1.0, 0.0, 0.0, 0.0, 0.0, 0.0, 1.0, 0.0, 0.0, 1.0, 0.0, 1.0, 1.0, 0.0, 0.0, 0.0, 0.0, 0.0, 1.0, 1.0, 0.0, 0.0, 0.0, 0.0, 0.0, 1.0, 0.0, 1.0, 1.0, 1.0, 1.0, 1.0, 0.0, 0.0, 0.0, 1.0, 0.0, 1.0, 0.0, 1.0, 0.0, 1.0, 0.0, 1.0, 0.0, 1.0, 1.0, 0.0, 0.0, 1.0, 0.0, 0.0, 0.0, 0.0, 1.0, 1.0, 1.0, 1.0, 0.0, 1.0, 0.0, 0.0, 1.0, 1.0, 0.0, 1.0, 0.0, 0.0, 0.0, 1.0, 1.0, 0.0, 0.0, 1.0, 0.0, 0.0, 0.0, 0.0, 0.0, 1.0, 0.0, 1.0, 0.0, 0.0, 0.0, 0.0, 1.0, 0.0, 0.0, 0.0, 0.0, 0.0, 0.0, 1.0, 0.0, 0.0, 1.0, 1.0, 1.0, 1.0, 0.0, 0.0, 0.0, 0.0, 0.0, 0.0, 1.0, 0.0, 1.0, 0.0, 0.0, 1.0, 1.0, 1.0, 1.0, 1.0, 0.0, 1.0, 1.0, 1.0, 0.0, 1.0, 0.0, 0.0, 0.0, 0.0, 1.0, 1.0, 0.0, 1.0, 0.0, 0.0, 1.0, 0.0, 0.0, 0.0, 0.0, 0.0, 0.0, 0.0, 1.0, 0.0, 1.0, 0.0, 1.0, 0.0, 1.0, 1.0, 1.0, 0.0, 1.0, 0.0, 1.0, 1.0, 0.0, 0.0, 0.0, 0.0, 0.0, 1.0, 0.0, 1.0, 0.0, 1.0, 0.0, 0.0, 1.0, 1.0, 0.0, 0.0, 0.0, 0.0, 0.0, 1.0, 0.0, 0.0, 0.0, 0.0, 0.0, 0.0, 0.0, 0.0, 0.0, 1.0, 0.0, 0.0, 0.0, 0.0, 0.0, 0.0, 0.0, 1.0, 0.0, 0.0, 1.0, 1.0, 0.0, 1.0, 0.0, 1.0, 1.0, 1.0, 0.0, 0.0, 1.0, 1.0, 0.0, 0.0, 1.0, 0.0, 1.0, 0.0, 1.0, 0.0, 1.0, 0.0, 0.0, 1.0, 0.0]\n"
     ]
    }
   ],
   "source": [
    "# calculate predictions\n",
    "predictions = model.predict(X)\n",
    "# round predictions\n",
    "rounded = [round(x[0]) for x in predictions]\n",
    "print rounded"
   ]
  },
  {
   "cell_type": "markdown",
   "metadata": {},
   "source": [
    "Running this prints the predictions for each input pattern. We could use these predictions directly in our application if needed."
   ]
  }
 ],
 "metadata": {
  "kernelspec": {
   "display_name": "Python 2",
   "language": "python",
   "name": "python2"
  },
  "language_info": {
   "codemirror_mode": {
    "name": "ipython",
    "version": 2
   },
   "file_extension": ".py",
   "mimetype": "text/x-python",
   "name": "python",
   "nbconvert_exporter": "python",
   "pygments_lexer": "ipython2",
   "version": "2.7.12"
  }
 },
 "nbformat": 4,
 "nbformat_minor": 2
}
